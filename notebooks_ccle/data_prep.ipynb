{
 "cells": [
  {
   "cell_type": "code",
   "execution_count": 16,
   "id": "1f908c2c",
   "metadata": {},
   "outputs": [],
   "source": [
    "import pandas as pd\n",
    "import numpy as np\n",
    "from sklearn.preprocessing import LabelEncoder\n"
   ]
  },
  {
   "cell_type": "code",
   "execution_count": 17,
   "id": "40ac778a",
   "metadata": {},
   "outputs": [],
   "source": [
    "# Read the two CSV files into dataframes\n",
    "expression = pd.read_csv('../data/raw/OmicsExpressionProteinCodingGenesTPMLogp1.csv', low_memory=False)\n",
    "mutation = pd.read_csv('../data/raw/OmicsSomaticMutations.csv', low_memory=False)"
   ]
  },
  {
   "cell_type": "code",
   "execution_count": 18,
   "id": "124955a9",
   "metadata": {},
   "outputs": [
    {
     "name": "stdout",
     "output_type": "stream",
     "text": [
      "Class labels: {0: 'nan', 1: 'SNV', 2: 'deletion', 3: 'insertion', 4: 'substitution'}\n"
     ]
    }
   ],
   "source": [
    "# Filter for TP53 mutations only\n",
    "mutation = mutation[mutation['HugoSymbol'] == 'TP53']\n",
    "# Keep only ModelID and VariantType columns\n",
    "mutation_subset = mutation[['ModelID', 'VariantType']]\n",
    "\n",
    "# Rename first column to 'ModelID' and remove duplicates in expression data\n",
    "expression = expression.rename(columns={expression.columns[0]: 'ModelID'})\n",
    "expression.drop_duplicates(inplace=True)\n",
    "\n",
    "# Merge expression and mutation data on ModelID\n",
    "merged_df = pd.merge(expression, mutation_subset, on='ModelID', how='left')\n",
    "\n",
    "# Encode VariantType as multiclass target\n",
    "le = LabelEncoder()\n",
    "merged_df['VariantType'] = le.fit_transform(merged_df['VariantType'].astype(str))  # NaN will be treated as a separate class\n",
    "\n",
    "# Save mapping of class labels\n",
    "class_names =  {0: 'nan', 1: 'SNV', 2: 'deletion', 3: 'insertion', 4: 'substitution'}\n",
    "print(\"Class labels:\", class_names)\n",
    "\n",
    "# Create binary label: 1 if TP53 mutated, 0 otherwise\n",
    "merged_df['Mutated'] = np.where(merged_df['VariantType'] == le.transform(['nan'])[0], 0, 1)\n",
    "merged_df['VariantLabel'] = merged_df['VariantType'].apply(lambda x: class_names.get(x))\n",
    "\n",
    "# Clean column names: remove text in parentheses and strip whitespace\n",
    "merged_df.columns = merged_df.columns.str.replace(r'\\(.*?\\)', '', regex=True).str.strip()"
   ]
  },
  {
   "cell_type": "code",
   "execution_count": 19,
   "id": "ea8fcfb1",
   "metadata": {},
   "outputs": [],
   "source": [
    "merged_df.to_csv(\"../data/processed/ccle/merged_data.csv\")"
   ]
  }
 ],
 "metadata": {
  "kernelspec": {
   "display_name": "base",
   "language": "python",
   "name": "python3"
  },
  "language_info": {
   "codemirror_mode": {
    "name": "ipython",
    "version": 3
   },
   "file_extension": ".py",
   "mimetype": "text/x-python",
   "name": "python",
   "nbconvert_exporter": "python",
   "pygments_lexer": "ipython3",
   "version": "3.12.9"
  }
 },
 "nbformat": 4,
 "nbformat_minor": 5
}
