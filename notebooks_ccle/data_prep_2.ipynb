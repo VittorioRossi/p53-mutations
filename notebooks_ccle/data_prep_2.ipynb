{
 "cells": [
  {
   "cell_type": "code",
   "execution_count": 82,
   "id": "1f908c2c",
   "metadata": {},
   "outputs": [],
   "source": [
    "import pandas as pd\n",
    "import numpy as np\n",
    "from sklearn.preprocessing import LabelEncoder\n"
   ]
  },
  {
   "cell_type": "code",
   "execution_count": null,
   "id": "40ac778a",
   "metadata": {},
   "outputs": [
    {
     "name": "stderr",
     "output_type": "stream",
     "text": [
      "/var/folders/nz/rtq9l4590h118vvgvrm2s6dr0000gn/T/ipykernel_47137/1635886351.py:3: DtypeWarning: Columns (22,50,56,57,58,59,61) have mixed types. Specify dtype option on import or set low_memory=False.\n",
      "  mutation = pd.read_csv('/Users/vittorio/Projects/uni/ml_lab/data/raw/OmicsSomaticMutations.csv')\n"
     ]
    }
   ],
   "source": [
    "# Read the two CSV files into dataframes\n",
    "expression = pd.read_csv('../data/raw/OmicsExpressionProteinCodingGenesTPMLogp1.csv')\n",
    "mutation = pd.read_csv('../data/raw/OmicsSomaticMutations.csv')"
   ]
  },
  {
   "cell_type": "code",
   "execution_count": 86,
   "id": "124955a9",
   "metadata": {},
   "outputs": [
    {
     "name": "stdout",
     "output_type": "stream",
     "text": [
      "Class labels: {0: 'SNV', 1: 'deletion', 2: 'insertion', 3: 'nan', 4: 'substitution'}\n"
     ]
    }
   ],
   "source": [
    "mutation = mutation[mutation['HugoSymbol'] == 'TP53']  # filter only TP53 mutations\n",
    "mutation_subset = mutation[['ModelID', 'VariantType']]  # keep only needed columns\n",
    "\n",
    "expression = expression.rename(columns={expression.columns[0]: 'ModelID'})\n",
    "expression.drop_duplicates(inplace=True)\n",
    "\n",
    "# --- Merge datasets ---\n",
    "merged_df = pd.merge(expression, mutation_subset, on='ModelID', how='left')\n",
    "\n",
    "# --- Encode mutation type (multiclass target) ---\n",
    "le = LabelEncoder()\n",
    "merged_df['VariantType'] = le.fit_transform(merged_df['VariantType'].astype(str))  # Encode NaN as a class if needed\n",
    "\n",
    "# Save class label mapping\n",
    "class_names = {index: label for index, label in enumerate(le.classes_)}\n",
    "print(\"Class labels:\", class_names)\n",
    "\n",
    "# --- Binary label: is TP53 mutated or not ---\n",
    "merged_df['Mutated'] = np.where(merged_df['VariantType'] == le.transform(['nan'])[0], 0, 1)  # 0 if VariantType was NaN, else 1\n",
    "merged_df.columns = merged_df.columns.str.replace(r'\\(.*?\\)', '', regex=True).str.strip()  # Drop text in parentheses and strip whitespace\n"
   ]
  },
  {
   "cell_type": "code",
   "execution_count": 88,
   "id": "ea8fcfb1",
   "metadata": {},
   "outputs": [],
   "source": [
    "merged_df.to_csv(\"../data/processed/merged_data.csv\")"
   ]
  }
 ],
 "metadata": {
  "kernelspec": {
   "display_name": "base",
   "language": "python",
   "name": "python3"
  },
  "language_info": {
   "codemirror_mode": {
    "name": "ipython",
    "version": 3
   },
   "file_extension": ".py",
   "mimetype": "text/x-python",
   "name": "python",
   "nbconvert_exporter": "python",
   "pygments_lexer": "ipython3",
   "version": "3.12.9"
  }
 },
 "nbformat": 4,
 "nbformat_minor": 5
}
